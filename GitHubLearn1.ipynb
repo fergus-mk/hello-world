{
 "cells": [
  {
   "cell_type": "markdown",
   "id": "sophisticated-suspension",
   "metadata": {},
   "source": [
    "__GitHub Learn 1__"
   ]
  },
  {
   "cell_type": "code",
   "execution_count": 1,
   "id": "blessed-google",
   "metadata": {},
   "outputs": [],
   "source": [
    "#this file is to learn GitHub"
   ]
  },
  {
   "cell_type": "code",
   "execution_count": null,
   "id": "disabled-thesis",
   "metadata": {},
   "outputs": [],
   "source": [
    "# This is a different file to see how the branch can update main"
   ]
  },
  {
   "cell_type": "code",
   "execution_count": null,
   "id": "daily-robin",
   "metadata": {},
   "outputs": [],
   "source": [
    "# test test"
   ]
  }
 ],
 "metadata": {
  "kernelspec": {
   "display_name": "Python 3",
   "language": "python",
   "name": "python3"
  },
  "language_info": {
   "codemirror_mode": {
    "name": "ipython",
    "version": 3
   },
   "file_extension": ".py",
   "mimetype": "text/x-python",
   "name": "python",
   "nbconvert_exporter": "python",
   "pygments_lexer": "ipython3",
   "version": "3.9.1"
  }
 },
 "nbformat": 4,
 "nbformat_minor": 5
}
