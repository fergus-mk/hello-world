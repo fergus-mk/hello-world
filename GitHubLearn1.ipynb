{
 "cells": [
  {
   "cell_type": "markdown",
   "id": "subtle-visibility",
   "metadata": {},
   "source": [
    "__GitHub Learn 1__"
   ]
  },
  {
   "cell_type": "code",
   "execution_count": 1,
   "id": "rubber-professor",
   "metadata": {},
   "outputs": [],
   "source": [
    "#this file is for learning how to use GitHub"
   ]
  }
 ],
 "metadata": {
  "kernelspec": {
   "display_name": "Python 3",
   "language": "python",
   "name": "python3"
  },
  "language_info": {
   "codemirror_mode": {
    "name": "ipython",
    "version": 3
   },
   "file_extension": ".py",
   "mimetype": "text/x-python",
   "name": "python",
   "nbconvert_exporter": "python",
   "pygments_lexer": "ipython3",
   "version": "3.9.1"
  }
 },
 "nbformat": 4,
 "nbformat_minor": 5
}
